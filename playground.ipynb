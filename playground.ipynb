{
 "cells": [
  {
   "cell_type": "code",
   "execution_count": 2,
   "metadata": {},
   "outputs": [],
   "source": [
    "import seaborn as sns\n",
    "import pandas as pd\n",
    "import numpy as np\n",
    "import matplotlib.pyplot as plt\n",
    "import torch\n",
    "from torch import nn\n",
    "import os"
   ]
  },
  {
   "cell_type": "code",
   "execution_count": 3,
   "metadata": {},
   "outputs": [
    {
     "name": "stderr",
     "output_type": "stream",
     "text": [
      "/var/folders/98/0wztx0n16mjcz88c4zsmx0dr0000gn/T/ipykernel_1291/2883848650.py:5: DtypeWarning: Columns (26,28,35) have mixed types. Specify dtype option on import or set low_memory=False.\n",
      "  dfs = [pd.read_csv(file) for file in csv_files]\n",
      "/var/folders/98/0wztx0n16mjcz88c4zsmx0dr0000gn/T/ipykernel_1291/2883848650.py:5: DtypeWarning: Columns (26,28,35) have mixed types. Specify dtype option on import or set low_memory=False.\n",
      "  dfs = [pd.read_csv(file) for file in csv_files]\n"
     ]
    }
   ],
   "source": [
    "csv_files = ['ICUDatasetProcessed/Attack.csv', \n",
    "             'ICUDatasetProcessed/environmentMonitoring.csv', \n",
    "             'ICUDatasetProcessed/patientMonitoring.csv']\n",
    "\n",
    "dfs = [pd.read_csv(file) for file in csv_files]\n",
    "combined_df = pd.concat(dfs, ignore_index=True)\n",
    "shuffled_df = combined_df.sample(frac=1).reset_index(drop=True)\n",
    "shuffled_df.to_csv('shuffled_data.csv', index=False)"
   ]
  },
  {
   "cell_type": "code",
   "execution_count": 4,
   "metadata": {},
   "outputs": [
    {
     "data": {
      "text/html": [
       "<div>\n",
       "<style scoped>\n",
       "    .dataframe tbody tr th:only-of-type {\n",
       "        vertical-align: middle;\n",
       "    }\n",
       "\n",
       "    .dataframe tbody tr th {\n",
       "        vertical-align: top;\n",
       "    }\n",
       "\n",
       "    .dataframe thead th {\n",
       "        text-align: right;\n",
       "    }\n",
       "</style>\n",
       "<table border=\"1\" class=\"dataframe\">\n",
       "  <thead>\n",
       "    <tr style=\"text-align: right;\">\n",
       "      <th></th>\n",
       "      <th>frame.time_delta</th>\n",
       "      <th>frame.time_relative</th>\n",
       "      <th>frame.len</th>\n",
       "      <th>ip.src</th>\n",
       "      <th>ip.dst</th>\n",
       "      <th>tcp.srcport</th>\n",
       "      <th>tcp.dstport</th>\n",
       "      <th>tcp.flags</th>\n",
       "      <th>tcp.time_delta</th>\n",
       "      <th>tcp.len</th>\n",
       "      <th>...</th>\n",
       "      <th>mqtt.qos</th>\n",
       "      <th>mqtt.retain</th>\n",
       "      <th>mqtt.topic</th>\n",
       "      <th>mqtt.topic_len</th>\n",
       "      <th>mqtt.ver</th>\n",
       "      <th>mqtt.willmsg_len</th>\n",
       "      <th>ip.proto</th>\n",
       "      <th>ip.ttl</th>\n",
       "      <th>class</th>\n",
       "      <th>label</th>\n",
       "    </tr>\n",
       "  </thead>\n",
       "  <tbody>\n",
       "    <tr>\n",
       "      <th>0</th>\n",
       "      <td>0.970781</td>\n",
       "      <td>104.130101</td>\n",
       "      <td>62</td>\n",
       "      <td>192.168.1.90</td>\n",
       "      <td>192.168.1.91</td>\n",
       "      <td>50226</td>\n",
       "      <td>1883</td>\n",
       "      <td>0x00000018</td>\n",
       "      <td>0.970781</td>\n",
       "      <td>8</td>\n",
       "      <td>...</td>\n",
       "      <td>0.0</td>\n",
       "      <td>0.0</td>\n",
       "      <td>#</td>\n",
       "      <td>1.0</td>\n",
       "      <td>0.0</td>\n",
       "      <td>0.0</td>\n",
       "      <td>6</td>\n",
       "      <td>64</td>\n",
       "      <td>Attack</td>\n",
       "      <td>1</td>\n",
       "    </tr>\n",
       "    <tr>\n",
       "      <th>1</th>\n",
       "      <td>0.000055</td>\n",
       "      <td>585.824957</td>\n",
       "      <td>79</td>\n",
       "      <td>10.5.126.137</td>\n",
       "      <td>10.5.126.84</td>\n",
       "      <td>38017</td>\n",
       "      <td>1883</td>\n",
       "      <td>0x00000018</td>\n",
       "      <td>2.996567</td>\n",
       "      <td>11</td>\n",
       "      <td>...</td>\n",
       "      <td>1.0</td>\n",
       "      <td>0.0</td>\n",
       "      <td>Fire</td>\n",
       "      <td>4.0</td>\n",
       "      <td>0.0</td>\n",
       "      <td>0.0</td>\n",
       "      <td>6</td>\n",
       "      <td>64</td>\n",
       "      <td>environmentMonitoring</td>\n",
       "      <td>0</td>\n",
       "    </tr>\n",
       "    <tr>\n",
       "      <th>2</th>\n",
       "      <td>0.000030</td>\n",
       "      <td>3033.031683</td>\n",
       "      <td>86</td>\n",
       "      <td>10.5.126.168</td>\n",
       "      <td>10.5.126.56</td>\n",
       "      <td>36849</td>\n",
       "      <td>1883</td>\n",
       "      <td>0x00000018</td>\n",
       "      <td>2.002304</td>\n",
       "      <td>18</td>\n",
       "      <td>...</td>\n",
       "      <td>0.0</td>\n",
       "      <td>0.0</td>\n",
       "      <td>Pulsoximeter</td>\n",
       "      <td>12.0</td>\n",
       "      <td>0.0</td>\n",
       "      <td>0.0</td>\n",
       "      <td>6</td>\n",
       "      <td>64</td>\n",
       "      <td>patientMonitoring</td>\n",
       "      <td>0</td>\n",
       "    </tr>\n",
       "    <tr>\n",
       "      <th>3</th>\n",
       "      <td>0.000243</td>\n",
       "      <td>0.241203</td>\n",
       "      <td>69</td>\n",
       "      <td>10.16.120.44</td>\n",
       "      <td>10.16.120.72</td>\n",
       "      <td>57546</td>\n",
       "      <td>1883</td>\n",
       "      <td>0x00000018</td>\n",
       "      <td>0.000346</td>\n",
       "      <td>3</td>\n",
       "      <td>...</td>\n",
       "      <td>0.0</td>\n",
       "      <td>0.0</td>\n",
       "      <td>0.0</td>\n",
       "      <td>0.0</td>\n",
       "      <td>4.0</td>\n",
       "      <td>0.0</td>\n",
       "      <td>6</td>\n",
       "      <td>64</td>\n",
       "      <td>Attack</td>\n",
       "      <td>1</td>\n",
       "    </tr>\n",
       "    <tr>\n",
       "      <th>4</th>\n",
       "      <td>0.000019</td>\n",
       "      <td>0.569820</td>\n",
       "      <td>74</td>\n",
       "      <td>10.16.120.72</td>\n",
       "      <td>10.16.120.44</td>\n",
       "      <td>1883</td>\n",
       "      <td>58904</td>\n",
       "      <td>0x00000012</td>\n",
       "      <td>0.000019</td>\n",
       "      <td>0</td>\n",
       "      <td>...</td>\n",
       "      <td>0.0</td>\n",
       "      <td>0.0</td>\n",
       "      <td>0.0</td>\n",
       "      <td>0.0</td>\n",
       "      <td>0.0</td>\n",
       "      <td>0.0</td>\n",
       "      <td>6</td>\n",
       "      <td>64</td>\n",
       "      <td>Attack</td>\n",
       "      <td>1</td>\n",
       "    </tr>\n",
       "    <tr>\n",
       "      <th>...</th>\n",
       "      <td>...</td>\n",
       "      <td>...</td>\n",
       "      <td>...</td>\n",
       "      <td>...</td>\n",
       "      <td>...</td>\n",
       "      <td>...</td>\n",
       "      <td>...</td>\n",
       "      <td>...</td>\n",
       "      <td>...</td>\n",
       "      <td>...</td>\n",
       "      <td>...</td>\n",
       "      <td>...</td>\n",
       "      <td>...</td>\n",
       "      <td>...</td>\n",
       "      <td>...</td>\n",
       "      <td>...</td>\n",
       "      <td>...</td>\n",
       "      <td>...</td>\n",
       "      <td>...</td>\n",
       "      <td>...</td>\n",
       "      <td>...</td>\n",
       "    </tr>\n",
       "    <tr>\n",
       "      <th>188689</th>\n",
       "      <td>0.000058</td>\n",
       "      <td>4390.030002</td>\n",
       "      <td>86</td>\n",
       "      <td>10.5.126.148</td>\n",
       "      <td>10.5.126.56</td>\n",
       "      <td>37701</td>\n",
       "      <td>1883</td>\n",
       "      <td>0x00000018</td>\n",
       "      <td>1.983694</td>\n",
       "      <td>18</td>\n",
       "      <td>...</td>\n",
       "      <td>0.0</td>\n",
       "      <td>0.0</td>\n",
       "      <td>Pulsoximeter</td>\n",
       "      <td>12.0</td>\n",
       "      <td>0.0</td>\n",
       "      <td>0.0</td>\n",
       "      <td>6</td>\n",
       "      <td>64</td>\n",
       "      <td>patientMonitoring</td>\n",
       "      <td>0</td>\n",
       "    </tr>\n",
       "    <tr>\n",
       "      <th>188690</th>\n",
       "      <td>0.000293</td>\n",
       "      <td>62.762020</td>\n",
       "      <td>60</td>\n",
       "      <td>192.168.1.91</td>\n",
       "      <td>192.168.1.90</td>\n",
       "      <td>1883</td>\n",
       "      <td>54546</td>\n",
       "      <td>0x00000018</td>\n",
       "      <td>0.000293</td>\n",
       "      <td>4</td>\n",
       "      <td>...</td>\n",
       "      <td>0.0</td>\n",
       "      <td>0.0</td>\n",
       "      <td>0</td>\n",
       "      <td>0.0</td>\n",
       "      <td>0.0</td>\n",
       "      <td>0.0</td>\n",
       "      <td>6</td>\n",
       "      <td>128</td>\n",
       "      <td>Attack</td>\n",
       "      <td>1</td>\n",
       "    </tr>\n",
       "    <tr>\n",
       "      <th>188691</th>\n",
       "      <td>0.000001</td>\n",
       "      <td>15.853036</td>\n",
       "      <td>152</td>\n",
       "      <td>192.168.1.90</td>\n",
       "      <td>192.168.1.91</td>\n",
       "      <td>54542</td>\n",
       "      <td>1883</td>\n",
       "      <td>0x00000018</td>\n",
       "      <td>0.000001</td>\n",
       "      <td>98</td>\n",
       "      <td>...</td>\n",
       "      <td>1.0</td>\n",
       "      <td>0.0</td>\n",
       "      <td>mqtt-malaria/beem.loadr-MBP-di-Ivan-5.lan-5476...</td>\n",
       "      <td>65.0</td>\n",
       "      <td>0.0</td>\n",
       "      <td>0.0</td>\n",
       "      <td>6</td>\n",
       "      <td>64</td>\n",
       "      <td>Attack</td>\n",
       "      <td>1</td>\n",
       "    </tr>\n",
       "    <tr>\n",
       "      <th>188692</th>\n",
       "      <td>0.000034</td>\n",
       "      <td>13.233742</td>\n",
       "      <td>223</td>\n",
       "      <td>192.168.1.90</td>\n",
       "      <td>192.168.1.91</td>\n",
       "      <td>54542</td>\n",
       "      <td>1883</td>\n",
       "      <td>0x00000018</td>\n",
       "      <td>0.000034</td>\n",
       "      <td>169</td>\n",
       "      <td>...</td>\n",
       "      <td>1.0</td>\n",
       "      <td>0.0</td>\n",
       "      <td>mqtt-malaria/beem.loadr-MBP-di-Ivan-5.lan-5476...</td>\n",
       "      <td>65.0</td>\n",
       "      <td>0.0</td>\n",
       "      <td>0.0</td>\n",
       "      <td>6</td>\n",
       "      <td>64</td>\n",
       "      <td>Attack</td>\n",
       "      <td>1</td>\n",
       "    </tr>\n",
       "    <tr>\n",
       "      <th>188693</th>\n",
       "      <td>0.000138</td>\n",
       "      <td>4053.032337</td>\n",
       "      <td>77</td>\n",
       "      <td>10.5.126.167</td>\n",
       "      <td>10.5.126.56</td>\n",
       "      <td>33251</td>\n",
       "      <td>1883</td>\n",
       "      <td>0x00000018</td>\n",
       "      <td>2.004809</td>\n",
       "      <td>9</td>\n",
       "      <td>...</td>\n",
       "      <td>0.0</td>\n",
       "      <td>0.0</td>\n",
       "      <td>EMG</td>\n",
       "      <td>3.0</td>\n",
       "      <td>0.0</td>\n",
       "      <td>0.0</td>\n",
       "      <td>6</td>\n",
       "      <td>64</td>\n",
       "      <td>patientMonitoring</td>\n",
       "      <td>0</td>\n",
       "    </tr>\n",
       "  </tbody>\n",
       "</table>\n",
       "<p>188694 rows × 52 columns</p>\n",
       "</div>"
      ],
      "text/plain": [
       "        frame.time_delta  frame.time_relative  frame.len        ip.src  \\\n",
       "0               0.970781           104.130101         62  192.168.1.90   \n",
       "1               0.000055           585.824957         79  10.5.126.137   \n",
       "2               0.000030          3033.031683         86  10.5.126.168   \n",
       "3               0.000243             0.241203         69  10.16.120.44   \n",
       "4               0.000019             0.569820         74  10.16.120.72   \n",
       "...                  ...                  ...        ...           ...   \n",
       "188689          0.000058          4390.030002         86  10.5.126.148   \n",
       "188690          0.000293            62.762020         60  192.168.1.91   \n",
       "188691          0.000001            15.853036        152  192.168.1.90   \n",
       "188692          0.000034            13.233742        223  192.168.1.90   \n",
       "188693          0.000138          4053.032337         77  10.5.126.167   \n",
       "\n",
       "              ip.dst  tcp.srcport  tcp.dstport   tcp.flags  tcp.time_delta  \\\n",
       "0       192.168.1.91        50226         1883  0x00000018        0.970781   \n",
       "1        10.5.126.84        38017         1883  0x00000018        2.996567   \n",
       "2        10.5.126.56        36849         1883  0x00000018        2.002304   \n",
       "3       10.16.120.72        57546         1883  0x00000018        0.000346   \n",
       "4       10.16.120.44         1883        58904  0x00000012        0.000019   \n",
       "...              ...          ...          ...         ...             ...   \n",
       "188689   10.5.126.56        37701         1883  0x00000018        1.983694   \n",
       "188690  192.168.1.90         1883        54546  0x00000018        0.000293   \n",
       "188691  192.168.1.91        54542         1883  0x00000018        0.000001   \n",
       "188692  192.168.1.91        54542         1883  0x00000018        0.000034   \n",
       "188693   10.5.126.56        33251         1883  0x00000018        2.004809   \n",
       "\n",
       "        tcp.len  ...  mqtt.qos  mqtt.retain  \\\n",
       "0             8  ...       0.0          0.0   \n",
       "1            11  ...       1.0          0.0   \n",
       "2            18  ...       0.0          0.0   \n",
       "3             3  ...       0.0          0.0   \n",
       "4             0  ...       0.0          0.0   \n",
       "...         ...  ...       ...          ...   \n",
       "188689       18  ...       0.0          0.0   \n",
       "188690        4  ...       0.0          0.0   \n",
       "188691       98  ...       1.0          0.0   \n",
       "188692      169  ...       1.0          0.0   \n",
       "188693        9  ...       0.0          0.0   \n",
       "\n",
       "                                               mqtt.topic  mqtt.topic_len  \\\n",
       "0                                                       #             1.0   \n",
       "1                                                    Fire             4.0   \n",
       "2                                            Pulsoximeter            12.0   \n",
       "3                                                     0.0             0.0   \n",
       "4                                                     0.0             0.0   \n",
       "...                                                   ...             ...   \n",
       "188689                                       Pulsoximeter            12.0   \n",
       "188690                                                  0             0.0   \n",
       "188691  mqtt-malaria/beem.loadr-MBP-di-Ivan-5.lan-5476...            65.0   \n",
       "188692  mqtt-malaria/beem.loadr-MBP-di-Ivan-5.lan-5476...            65.0   \n",
       "188693                                                EMG             3.0   \n",
       "\n",
       "        mqtt.ver  mqtt.willmsg_len  ip.proto  ip.ttl                  class  \\\n",
       "0            0.0               0.0         6      64                 Attack   \n",
       "1            0.0               0.0         6      64  environmentMonitoring   \n",
       "2            0.0               0.0         6      64      patientMonitoring   \n",
       "3            4.0               0.0         6      64                 Attack   \n",
       "4            0.0               0.0         6      64                 Attack   \n",
       "...          ...               ...       ...     ...                    ...   \n",
       "188689       0.0               0.0         6      64      patientMonitoring   \n",
       "188690       0.0               0.0         6     128                 Attack   \n",
       "188691       0.0               0.0         6      64                 Attack   \n",
       "188692       0.0               0.0         6      64                 Attack   \n",
       "188693       0.0               0.0         6      64      patientMonitoring   \n",
       "\n",
       "        label  \n",
       "0           1  \n",
       "1           0  \n",
       "2           0  \n",
       "3           1  \n",
       "4           1  \n",
       "...       ...  \n",
       "188689      0  \n",
       "188690      1  \n",
       "188691      1  \n",
       "188692      1  \n",
       "188693      0  \n",
       "\n",
       "[188694 rows x 52 columns]"
      ]
     },
     "execution_count": 4,
     "metadata": {},
     "output_type": "execute_result"
    }
   ],
   "source": [
    "df = pd.read_csv('shuffled_data.csv')\n",
    "df"
   ]
  },
  {
   "cell_type": "code",
   "execution_count": 5,
   "metadata": {},
   "outputs": [],
   "source": [
    "relevant_columns = [\n",
    "    'tcp.srcport', 'tcp.dstport', 'tcp.flags', 'tcp.ack', 'tcp.window_size_value',\n",
    "    'tcp.connection.fin', 'tcp.connection.syn', 'tcp.connection.rst', 'tcp.payload',\n",
    "    'ip.src', 'ip.dst', 'ip.proto', 'ip.ttl', 'mqtt.clientid', 'mqtt.msgtype',\n",
    "    'mqtt.topic', 'mqtt.kalive', 'mqtt.len', 'mqtt.qos', 'tcp.checksum',\n",
    "    'tcp.hdr_len', 'frame.time_delta', 'frame.time_relative', 'tcp.time_delta', 'label'\n",
    "]"
   ]
  },
  {
   "cell_type": "code",
   "execution_count": 6,
   "metadata": {},
   "outputs": [],
   "source": [
    "df = df[relevant_columns]"
   ]
  },
  {
   "cell_type": "code",
   "execution_count": 7,
   "metadata": {},
   "outputs": [
    {
     "name": "stderr",
     "output_type": "stream",
     "text": [
      "/var/folders/98/0wztx0n16mjcz88c4zsmx0dr0000gn/T/ipykernel_1291/2897899658.py:1: SettingWithCopyWarning: \n",
      "A value is trying to be set on a copy of a slice from a DataFrame.\n",
      "Try using .loc[row_indexer,col_indexer] = value instead\n",
      "\n",
      "See the caveats in the documentation: https://pandas.pydata.org/pandas-docs/stable/user_guide/indexing.html#returning-a-view-versus-a-copy\n",
      "  df['tcp.checksum'] = df['tcp.checksum'].apply(lambda x: int(x, 16))\n"
     ]
    }
   ],
   "source": [
    "df['tcp.checksum'] = df['tcp.checksum'].apply(lambda x: int(x, 16))\n"
   ]
  },
  {
   "cell_type": "code",
   "execution_count": 8,
   "metadata": {},
   "outputs": [
    {
     "name": "stderr",
     "output_type": "stream",
     "text": [
      "/var/folders/98/0wztx0n16mjcz88c4zsmx0dr0000gn/T/ipykernel_1291/1462820416.py:11: SettingWithCopyWarning: \n",
      "A value is trying to be set on a copy of a slice from a DataFrame.\n",
      "Try using .loc[row_indexer,col_indexer] = value instead\n",
      "\n",
      "See the caveats in the documentation: https://pandas.pydata.org/pandas-docs/stable/user_guide/indexing.html#returning-a-view-versus-a-copy\n",
      "  df['payload_length'] = df['tcp.payload'].apply(get_payload_length)\n",
      "/var/folders/98/0wztx0n16mjcz88c4zsmx0dr0000gn/T/ipykernel_1291/1462820416.py:12: SettingWithCopyWarning: \n",
      "A value is trying to be set on a copy of a slice from a DataFrame\n",
      "\n",
      "See the caveats in the documentation: https://pandas.pydata.org/pandas-docs/stable/user_guide/indexing.html#returning-a-view-versus-a-copy\n",
      "  df.drop('tcp.payload', axis=1,  inplace=True)\n"
     ]
    }
   ],
   "source": [
    "def get_payload_length(payload):\n",
    "    try:\n",
    "        payload_clean = ''.join(c for c in payload if c in '0123456789ABCDEFabcdef')\n",
    "        if not payload_clean:\n",
    "            return 0\n",
    "        byte_data = bytes.fromhex(payload_clean)\n",
    "        return len(byte_data)\n",
    "    except ValueError:\n",
    "        return 0\n",
    "\n",
    "df['payload_length'] = df['tcp.payload'].apply(get_payload_length)\n",
    "df.drop('tcp.payload', axis=1,  inplace=True)"
   ]
  },
  {
   "cell_type": "code",
   "execution_count": 9,
   "metadata": {},
   "outputs": [
    {
     "name": "stdout",
     "output_type": "stream",
     "text": [
      "tcp.flags : 8 labels\n",
      "ip.src : 44 labels\n",
      "ip.dst : 44 labels\n",
      "mqtt.clientid : 1158 labels\n",
      "mqtt.topic : 23440 labels\n"
     ]
    }
   ],
   "source": [
    "categorial_df=df.select_dtypes(include=\"object\")\n",
    "for col in categorial_df.columns:\n",
    "    print(col, \":\", len(df[col].unique()), \"labels\")"
   ]
  },
  {
   "cell_type": "code",
   "execution_count": 10,
   "metadata": {},
   "outputs": [
    {
     "data": {
      "text/plain": [
       "label\n",
       "0    108568\n",
       "1     80126\n",
       "Name: count, dtype: int64"
      ]
     },
     "execution_count": 10,
     "metadata": {},
     "output_type": "execute_result"
    }
   ],
   "source": [
    "df['label'].value_counts()"
   ]
  },
  {
   "cell_type": "code",
   "execution_count": 11,
   "metadata": {},
   "outputs": [
    {
     "data": {
      "text/html": [
       "<div>\n",
       "<style scoped>\n",
       "    .dataframe tbody tr th:only-of-type {\n",
       "        vertical-align: middle;\n",
       "    }\n",
       "\n",
       "    .dataframe tbody tr th {\n",
       "        vertical-align: top;\n",
       "    }\n",
       "\n",
       "    .dataframe thead th {\n",
       "        text-align: right;\n",
       "    }\n",
       "</style>\n",
       "<table border=\"1\" class=\"dataframe\">\n",
       "  <thead>\n",
       "    <tr style=\"text-align: right;\">\n",
       "      <th></th>\n",
       "      <th>tcp.srcport</th>\n",
       "      <th>tcp.dstport</th>\n",
       "      <th>tcp.flags</th>\n",
       "      <th>tcp.ack</th>\n",
       "      <th>tcp.window_size_value</th>\n",
       "      <th>tcp.connection.fin</th>\n",
       "      <th>tcp.connection.syn</th>\n",
       "      <th>tcp.connection.rst</th>\n",
       "      <th>ip.src</th>\n",
       "      <th>ip.dst</th>\n",
       "      <th>...</th>\n",
       "      <th>mqtt.kalive</th>\n",
       "      <th>mqtt.len</th>\n",
       "      <th>mqtt.qos</th>\n",
       "      <th>tcp.checksum</th>\n",
       "      <th>tcp.hdr_len</th>\n",
       "      <th>frame.time_delta</th>\n",
       "      <th>frame.time_relative</th>\n",
       "      <th>tcp.time_delta</th>\n",
       "      <th>label</th>\n",
       "      <th>payload_length</th>\n",
       "    </tr>\n",
       "  </thead>\n",
       "  <tbody>\n",
       "    <tr>\n",
       "      <th>0</th>\n",
       "      <td>50226</td>\n",
       "      <td>1883</td>\n",
       "      <td>0x00000018</td>\n",
       "      <td>5</td>\n",
       "      <td>4096</td>\n",
       "      <td>0.0</td>\n",
       "      <td>0.0</td>\n",
       "      <td>0.0</td>\n",
       "      <td>192.168.1.90</td>\n",
       "      <td>192.168.1.91</td>\n",
       "      <td>...</td>\n",
       "      <td>0.0</td>\n",
       "      <td>6.0</td>\n",
       "      <td>0.0</td>\n",
       "      <td>42464</td>\n",
       "      <td>20</td>\n",
       "      <td>0.970781</td>\n",
       "      <td>104.130101</td>\n",
       "      <td>0.970781</td>\n",
       "      <td>1</td>\n",
       "      <td>8</td>\n",
       "    </tr>\n",
       "    <tr>\n",
       "      <th>1</th>\n",
       "      <td>38017</td>\n",
       "      <td>1883</td>\n",
       "      <td>0x00000018</td>\n",
       "      <td>803</td>\n",
       "      <td>512</td>\n",
       "      <td>0.0</td>\n",
       "      <td>0.0</td>\n",
       "      <td>0.0</td>\n",
       "      <td>10.5.126.137</td>\n",
       "      <td>10.5.126.84</td>\n",
       "      <td>...</td>\n",
       "      <td>0.0</td>\n",
       "      <td>9.0</td>\n",
       "      <td>1.0</td>\n",
       "      <td>4377</td>\n",
       "      <td>32</td>\n",
       "      <td>0.000055</td>\n",
       "      <td>585.824957</td>\n",
       "      <td>2.996567</td>\n",
       "      <td>0</td>\n",
       "      <td>11</td>\n",
       "    </tr>\n",
       "    <tr>\n",
       "      <th>2</th>\n",
       "      <td>36849</td>\n",
       "      <td>1883</td>\n",
       "      <td>0x00000018</td>\n",
       "      <td>105</td>\n",
       "      <td>512</td>\n",
       "      <td>0.0</td>\n",
       "      <td>0.0</td>\n",
       "      <td>0.0</td>\n",
       "      <td>10.5.126.168</td>\n",
       "      <td>10.5.126.56</td>\n",
       "      <td>...</td>\n",
       "      <td>0.0</td>\n",
       "      <td>16.0</td>\n",
       "      <td>0.0</td>\n",
       "      <td>4387</td>\n",
       "      <td>32</td>\n",
       "      <td>0.000030</td>\n",
       "      <td>3033.031683</td>\n",
       "      <td>2.002304</td>\n",
       "      <td>0</td>\n",
       "      <td>18</td>\n",
       "    </tr>\n",
       "    <tr>\n",
       "      <th>3</th>\n",
       "      <td>57546</td>\n",
       "      <td>1883</td>\n",
       "      <td>0x00000018</td>\n",
       "      <td>1</td>\n",
       "      <td>229</td>\n",
       "      <td>0.0</td>\n",
       "      <td>0.0</td>\n",
       "      <td>0.0</td>\n",
       "      <td>10.16.120.44</td>\n",
       "      <td>10.16.120.72</td>\n",
       "      <td>...</td>\n",
       "      <td>65535.0</td>\n",
       "      <td>30.0</td>\n",
       "      <td>0.0</td>\n",
       "      <td>30954</td>\n",
       "      <td>32</td>\n",
       "      <td>0.000243</td>\n",
       "      <td>0.241203</td>\n",
       "      <td>0.000346</td>\n",
       "      <td>1</td>\n",
       "      <td>3</td>\n",
       "    </tr>\n",
       "    <tr>\n",
       "      <th>4</th>\n",
       "      <td>1883</td>\n",
       "      <td>58904</td>\n",
       "      <td>0x00000012</td>\n",
       "      <td>1</td>\n",
       "      <td>28960</td>\n",
       "      <td>0.0</td>\n",
       "      <td>0.0</td>\n",
       "      <td>0.0</td>\n",
       "      <td>10.16.120.72</td>\n",
       "      <td>10.16.120.44</td>\n",
       "      <td>...</td>\n",
       "      <td>0.0</td>\n",
       "      <td>0.0</td>\n",
       "      <td>0.0</td>\n",
       "      <td>47792</td>\n",
       "      <td>40</td>\n",
       "      <td>0.000019</td>\n",
       "      <td>0.569820</td>\n",
       "      <td>0.000019</td>\n",
       "      <td>1</td>\n",
       "      <td>0</td>\n",
       "    </tr>\n",
       "    <tr>\n",
       "      <th>...</th>\n",
       "      <td>...</td>\n",
       "      <td>...</td>\n",
       "      <td>...</td>\n",
       "      <td>...</td>\n",
       "      <td>...</td>\n",
       "      <td>...</td>\n",
       "      <td>...</td>\n",
       "      <td>...</td>\n",
       "      <td>...</td>\n",
       "      <td>...</td>\n",
       "      <td>...</td>\n",
       "      <td>...</td>\n",
       "      <td>...</td>\n",
       "      <td>...</td>\n",
       "      <td>...</td>\n",
       "      <td>...</td>\n",
       "      <td>...</td>\n",
       "      <td>...</td>\n",
       "      <td>...</td>\n",
       "      <td>...</td>\n",
       "      <td>...</td>\n",
       "    </tr>\n",
       "    <tr>\n",
       "      <th>188689</th>\n",
       "      <td>37701</td>\n",
       "      <td>1883</td>\n",
       "      <td>0x00000018</td>\n",
       "      <td>151</td>\n",
       "      <td>512</td>\n",
       "      <td>0.0</td>\n",
       "      <td>0.0</td>\n",
       "      <td>0.0</td>\n",
       "      <td>10.5.126.148</td>\n",
       "      <td>10.5.126.56</td>\n",
       "      <td>...</td>\n",
       "      <td>0.0</td>\n",
       "      <td>16.0</td>\n",
       "      <td>0.0</td>\n",
       "      <td>4367</td>\n",
       "      <td>32</td>\n",
       "      <td>0.000058</td>\n",
       "      <td>4390.030002</td>\n",
       "      <td>1.983694</td>\n",
       "      <td>0</td>\n",
       "      <td>18</td>\n",
       "    </tr>\n",
       "    <tr>\n",
       "      <th>188690</th>\n",
       "      <td>1883</td>\n",
       "      <td>54546</td>\n",
       "      <td>0x00000018</td>\n",
       "      <td>919290</td>\n",
       "      <td>513</td>\n",
       "      <td>0.0</td>\n",
       "      <td>0.0</td>\n",
       "      <td>0.0</td>\n",
       "      <td>192.168.1.91</td>\n",
       "      <td>192.168.1.90</td>\n",
       "      <td>...</td>\n",
       "      <td>0.0</td>\n",
       "      <td>2.0</td>\n",
       "      <td>0.0</td>\n",
       "      <td>50392</td>\n",
       "      <td>20</td>\n",
       "      <td>0.000293</td>\n",
       "      <td>62.762020</td>\n",
       "      <td>0.000293</td>\n",
       "      <td>1</td>\n",
       "      <td>4</td>\n",
       "    </tr>\n",
       "    <tr>\n",
       "      <th>188691</th>\n",
       "      <td>54542</td>\n",
       "      <td>1883</td>\n",
       "      <td>0x00000018</td>\n",
       "      <td>22533</td>\n",
       "      <td>4096</td>\n",
       "      <td>0.0</td>\n",
       "      <td>0.0</td>\n",
       "      <td>0.0</td>\n",
       "      <td>192.168.1.90</td>\n",
       "      <td>192.168.1.91</td>\n",
       "      <td>...</td>\n",
       "      <td>0.0</td>\n",
       "      <td>168.0</td>\n",
       "      <td>1.0</td>\n",
       "      <td>13321</td>\n",
       "      <td>20</td>\n",
       "      <td>0.000001</td>\n",
       "      <td>15.853036</td>\n",
       "      <td>0.000001</td>\n",
       "      <td>1</td>\n",
       "      <td>98</td>\n",
       "    </tr>\n",
       "    <tr>\n",
       "      <th>188692</th>\n",
       "      <td>54542</td>\n",
       "      <td>1883</td>\n",
       "      <td>0x00000018</td>\n",
       "      <td>15853</td>\n",
       "      <td>4095</td>\n",
       "      <td>0.0</td>\n",
       "      <td>0.0</td>\n",
       "      <td>0.0</td>\n",
       "      <td>192.168.1.90</td>\n",
       "      <td>192.168.1.91</td>\n",
       "      <td>...</td>\n",
       "      <td>0.0</td>\n",
       "      <td>166.0</td>\n",
       "      <td>1.0</td>\n",
       "      <td>65118</td>\n",
       "      <td>20</td>\n",
       "      <td>0.000034</td>\n",
       "      <td>13.233742</td>\n",
       "      <td>0.000034</td>\n",
       "      <td>1</td>\n",
       "      <td>169</td>\n",
       "    </tr>\n",
       "    <tr>\n",
       "      <th>188693</th>\n",
       "      <td>33251</td>\n",
       "      <td>1883</td>\n",
       "      <td>0x00000018</td>\n",
       "      <td>139</td>\n",
       "      <td>512</td>\n",
       "      <td>0.0</td>\n",
       "      <td>0.0</td>\n",
       "      <td>0.0</td>\n",
       "      <td>10.5.126.167</td>\n",
       "      <td>10.5.126.56</td>\n",
       "      <td>...</td>\n",
       "      <td>0.0</td>\n",
       "      <td>7.0</td>\n",
       "      <td>0.0</td>\n",
       "      <td>4377</td>\n",
       "      <td>32</td>\n",
       "      <td>0.000138</td>\n",
       "      <td>4053.032337</td>\n",
       "      <td>2.004809</td>\n",
       "      <td>0</td>\n",
       "      <td>9</td>\n",
       "    </tr>\n",
       "  </tbody>\n",
       "</table>\n",
       "<p>188694 rows × 25 columns</p>\n",
       "</div>"
      ],
      "text/plain": [
       "        tcp.srcport  tcp.dstport   tcp.flags  tcp.ack  tcp.window_size_value  \\\n",
       "0             50226         1883  0x00000018        5                   4096   \n",
       "1             38017         1883  0x00000018      803                    512   \n",
       "2             36849         1883  0x00000018      105                    512   \n",
       "3             57546         1883  0x00000018        1                    229   \n",
       "4              1883        58904  0x00000012        1                  28960   \n",
       "...             ...          ...         ...      ...                    ...   \n",
       "188689        37701         1883  0x00000018      151                    512   \n",
       "188690         1883        54546  0x00000018   919290                    513   \n",
       "188691        54542         1883  0x00000018    22533                   4096   \n",
       "188692        54542         1883  0x00000018    15853                   4095   \n",
       "188693        33251         1883  0x00000018      139                    512   \n",
       "\n",
       "        tcp.connection.fin  tcp.connection.syn  tcp.connection.rst  \\\n",
       "0                      0.0                 0.0                 0.0   \n",
       "1                      0.0                 0.0                 0.0   \n",
       "2                      0.0                 0.0                 0.0   \n",
       "3                      0.0                 0.0                 0.0   \n",
       "4                      0.0                 0.0                 0.0   \n",
       "...                    ...                 ...                 ...   \n",
       "188689                 0.0                 0.0                 0.0   \n",
       "188690                 0.0                 0.0                 0.0   \n",
       "188691                 0.0                 0.0                 0.0   \n",
       "188692                 0.0                 0.0                 0.0   \n",
       "188693                 0.0                 0.0                 0.0   \n",
       "\n",
       "              ip.src        ip.dst  ...  mqtt.kalive  mqtt.len mqtt.qos  \\\n",
       "0       192.168.1.90  192.168.1.91  ...          0.0       6.0      0.0   \n",
       "1       10.5.126.137   10.5.126.84  ...          0.0       9.0      1.0   \n",
       "2       10.5.126.168   10.5.126.56  ...          0.0      16.0      0.0   \n",
       "3       10.16.120.44  10.16.120.72  ...      65535.0      30.0      0.0   \n",
       "4       10.16.120.72  10.16.120.44  ...          0.0       0.0      0.0   \n",
       "...              ...           ...  ...          ...       ...      ...   \n",
       "188689  10.5.126.148   10.5.126.56  ...          0.0      16.0      0.0   \n",
       "188690  192.168.1.91  192.168.1.90  ...          0.0       2.0      0.0   \n",
       "188691  192.168.1.90  192.168.1.91  ...          0.0     168.0      1.0   \n",
       "188692  192.168.1.90  192.168.1.91  ...          0.0     166.0      1.0   \n",
       "188693  10.5.126.167   10.5.126.56  ...          0.0       7.0      0.0   \n",
       "\n",
       "        tcp.checksum tcp.hdr_len  frame.time_delta  frame.time_relative  \\\n",
       "0              42464          20          0.970781           104.130101   \n",
       "1               4377          32          0.000055           585.824957   \n",
       "2               4387          32          0.000030          3033.031683   \n",
       "3              30954          32          0.000243             0.241203   \n",
       "4              47792          40          0.000019             0.569820   \n",
       "...              ...         ...               ...                  ...   \n",
       "188689          4367          32          0.000058          4390.030002   \n",
       "188690         50392          20          0.000293            62.762020   \n",
       "188691         13321          20          0.000001            15.853036   \n",
       "188692         65118          20          0.000034            13.233742   \n",
       "188693          4377          32          0.000138          4053.032337   \n",
       "\n",
       "        tcp.time_delta  label  payload_length  \n",
       "0             0.970781      1               8  \n",
       "1             2.996567      0              11  \n",
       "2             2.002304      0              18  \n",
       "3             0.000346      1               3  \n",
       "4             0.000019      1               0  \n",
       "...                ...    ...             ...  \n",
       "188689        1.983694      0              18  \n",
       "188690        0.000293      1               4  \n",
       "188691        0.000001      1              98  \n",
       "188692        0.000034      1             169  \n",
       "188693        2.004809      0               9  \n",
       "\n",
       "[188694 rows x 25 columns]"
      ]
     },
     "execution_count": 11,
     "metadata": {},
     "output_type": "execute_result"
    }
   ],
   "source": [
    "df"
   ]
  },
  {
   "cell_type": "code",
   "execution_count": 12,
   "metadata": {},
   "outputs": [],
   "source": [
    "from sklearn.preprocessing  import OrdinalEncoder\n",
    "from xgboost import XGBClassifier\n",
    "from sklearn.tree import  DecisionTreeClassifier\n",
    "from sklearn.metrics import classification_report, confusion_matrix"
   ]
  },
  {
   "cell_type": "code",
   "execution_count": 13,
   "metadata": {},
   "outputs": [
    {
     "name": "stdout",
     "output_type": "stream",
     "text": [
      "        tcp.srcport  tcp.dstport   tcp.flags  tcp.ack  tcp.window_size_value  \\\n",
      "0             50226         1883  0x00000018        5                   4096   \n",
      "1             38017         1883  0x00000018      803                    512   \n",
      "2             36849         1883  0x00000018      105                    512   \n",
      "3             57546         1883  0x00000018        1                    229   \n",
      "4              1883        58904  0x00000012        1                  28960   \n",
      "...             ...          ...         ...      ...                    ...   \n",
      "188689        37701         1883  0x00000018      151                    512   \n",
      "188690         1883        54546  0x00000018   919290                    513   \n",
      "188691        54542         1883  0x00000018    22533                   4096   \n",
      "188692        54542         1883  0x00000018    15853                   4095   \n",
      "188693        33251         1883  0x00000018      139                    512   \n",
      "\n",
      "        tcp.connection.fin  tcp.connection.syn  tcp.connection.rst  \\\n",
      "0                      0.0                 0.0                 0.0   \n",
      "1                      0.0                 0.0                 0.0   \n",
      "2                      0.0                 0.0                 0.0   \n",
      "3                      0.0                 0.0                 0.0   \n",
      "4                      0.0                 0.0                 0.0   \n",
      "...                    ...                 ...                 ...   \n",
      "188689                 0.0                 0.0                 0.0   \n",
      "188690                 0.0                 0.0                 0.0   \n",
      "188691                 0.0                 0.0                 0.0   \n",
      "188692                 0.0                 0.0                 0.0   \n",
      "188693                 0.0                 0.0                 0.0   \n",
      "\n",
      "              ip.src        ip.dst  ...  mqtt.kalive  mqtt.len mqtt.qos  \\\n",
      "0       192.168.1.90  192.168.1.91  ...          0.0       6.0      0.0   \n",
      "1       10.5.126.137   10.5.126.84  ...          0.0       9.0      1.0   \n",
      "2       10.5.126.168   10.5.126.56  ...          0.0      16.0      0.0   \n",
      "3       10.16.120.44  10.16.120.72  ...      65535.0      30.0      0.0   \n",
      "4       10.16.120.72  10.16.120.44  ...          0.0       0.0      0.0   \n",
      "...              ...           ...  ...          ...       ...      ...   \n",
      "188689  10.5.126.148   10.5.126.56  ...          0.0      16.0      0.0   \n",
      "188690  192.168.1.91  192.168.1.90  ...          0.0       2.0      0.0   \n",
      "188691  192.168.1.90  192.168.1.91  ...          0.0     168.0      1.0   \n",
      "188692  192.168.1.90  192.168.1.91  ...          0.0     166.0      1.0   \n",
      "188693  10.5.126.167   10.5.126.56  ...          0.0       7.0      0.0   \n",
      "\n",
      "        tcp.checksum tcp.hdr_len  frame.time_delta  frame.time_relative  \\\n",
      "0              42464          20          0.970781           104.130101   \n",
      "1               4377          32          0.000055           585.824957   \n",
      "2               4387          32          0.000030          3033.031683   \n",
      "3              30954          32          0.000243             0.241203   \n",
      "4              47792          40          0.000019             0.569820   \n",
      "...              ...         ...               ...                  ...   \n",
      "188689          4367          32          0.000058          4390.030002   \n",
      "188690         50392          20          0.000293            62.762020   \n",
      "188691         13321          20          0.000001            15.853036   \n",
      "188692         65118          20          0.000034            13.233742   \n",
      "188693          4377          32          0.000138          4053.032337   \n",
      "\n",
      "        tcp.time_delta  label  payload_length  \n",
      "0             0.970781      1               8  \n",
      "1             2.996567      0              11  \n",
      "2             2.002304      0              18  \n",
      "3             0.000346      1               3  \n",
      "4             0.000019      1               0  \n",
      "...                ...    ...             ...  \n",
      "188689        1.983694      0              18  \n",
      "188690        0.000293      1               4  \n",
      "188691        0.000001      1              98  \n",
      "188692        0.000034      1             169  \n",
      "188693        2.004809      0               9  \n",
      "\n",
      "[188694 rows x 25 columns]\n"
     ]
    }
   ],
   "source": [
    "df_encoded = df.copy()\n",
    "\n",
    "print(df_encoded)"
   ]
  },
  {
   "cell_type": "code",
   "execution_count": 14,
   "metadata": {},
   "outputs": [
    {
     "name": "stdout",
     "output_type": "stream",
     "text": [
      "tcp.srcport                int64\n",
      "tcp.dstport                int64\n",
      "tcp.flags                 object\n",
      "tcp.ack                    int64\n",
      "tcp.window_size_value      int64\n",
      "tcp.connection.fin       float64\n",
      "tcp.connection.syn       float64\n",
      "tcp.connection.rst       float64\n",
      "ip.src                    object\n",
      "ip.dst                    object\n",
      "ip.proto                   int64\n",
      "ip.ttl                     int64\n",
      "mqtt.clientid             object\n",
      "mqtt.msgtype             float64\n",
      "mqtt.topic                object\n",
      "mqtt.kalive              float64\n",
      "mqtt.len                 float64\n",
      "mqtt.qos                 float64\n",
      "tcp.checksum               int64\n",
      "tcp.hdr_len                int64\n",
      "frame.time_delta         float64\n",
      "frame.time_relative      float64\n",
      "tcp.time_delta           float64\n",
      "payload_length             int64\n",
      "dtype: object\n"
     ]
    }
   ],
   "source": [
    "X = df_encoded.drop('label', axis=1)\n",
    "print(X.dtypes)\n",
    "encoder = OrdinalEncoder()\n",
    "X[X.columns] = encoder.fit_transform(X)\n",
    "y = df_encoded['label']"
   ]
  },
  {
   "cell_type": "code",
   "execution_count": 15,
   "metadata": {},
   "outputs": [
    {
     "data": {
      "text/plain": [
       "tcp.srcport              float64\n",
       "tcp.dstport              float64\n",
       "tcp.flags                float64\n",
       "tcp.ack                  float64\n",
       "tcp.window_size_value    float64\n",
       "tcp.connection.fin       float64\n",
       "tcp.connection.syn       float64\n",
       "tcp.connection.rst       float64\n",
       "ip.src                   float64\n",
       "ip.dst                   float64\n",
       "ip.proto                 float64\n",
       "ip.ttl                   float64\n",
       "mqtt.clientid            float64\n",
       "mqtt.msgtype             float64\n",
       "mqtt.topic               float64\n",
       "mqtt.kalive              float64\n",
       "mqtt.len                 float64\n",
       "mqtt.qos                 float64\n",
       "tcp.checksum             float64\n",
       "tcp.hdr_len              float64\n",
       "frame.time_delta         float64\n",
       "frame.time_relative      float64\n",
       "tcp.time_delta           float64\n",
       "payload_length           float64\n",
       "dtype: object"
      ]
     },
     "execution_count": 15,
     "metadata": {},
     "output_type": "execute_result"
    }
   ],
   "source": [
    "X.dtypes"
   ]
  },
  {
   "cell_type": "code",
   "execution_count": 16,
   "metadata": {},
   "outputs": [
    {
     "data": {
      "text/plain": [
       "Index(['tcp.srcport', 'tcp.dstport', 'tcp.flags', 'tcp.ack',\n",
       "       'tcp.window_size_value', 'tcp.connection.fin', 'tcp.connection.syn',\n",
       "       'tcp.connection.rst', 'ip.src', 'ip.dst', 'ip.proto', 'ip.ttl',\n",
       "       'mqtt.clientid', 'mqtt.msgtype', 'mqtt.topic', 'mqtt.kalive',\n",
       "       'mqtt.len', 'mqtt.qos', 'tcp.checksum', 'tcp.hdr_len',\n",
       "       'frame.time_delta', 'frame.time_relative', 'tcp.time_delta',\n",
       "       'payload_length'],\n",
       "      dtype='object')"
      ]
     },
     "execution_count": 16,
     "metadata": {},
     "output_type": "execute_result"
    }
   ],
   "source": [
    "X.columns"
   ]
  },
  {
   "cell_type": "code",
   "execution_count": 17,
   "metadata": {},
   "outputs": [],
   "source": [
    "X_reshaped = X.values.reshape(X.shape[0], X.shape[1], 1)"
   ]
  },
  {
   "cell_type": "code",
   "execution_count": 18,
   "metadata": {},
   "outputs": [],
   "source": [
    "from sklearn.model_selection import train_test_split\n",
    "from sklearn.metrics import accuracy_score\n",
    "\n",
    "X_train, X_test, y_train, y_test = train_test_split(X, y, test_size=0.3, random_state=33)"
   ]
  },
  {
   "cell_type": "code",
   "execution_count": 19,
   "metadata": {},
   "outputs": [
    {
     "name": "stdout",
     "output_type": "stream",
     "text": [
      "Accuracy: 0.9504849052270841\n",
      "              precision    recall  f1-score   support\n",
      "\n",
      "           0   0.920602  1.000000  0.958660     32500\n",
      "           1   1.000000  0.883736  0.938280     24109\n",
      "\n",
      "    accuracy                       0.950485     56609\n",
      "   macro avg   0.960301  0.941868  0.948470     56609\n",
      "weighted avg   0.954416  0.950485  0.949980     56609\n",
      "\n"
     ]
    }
   ],
   "source": [
    "dt = DecisionTreeClassifier(max_depth=1)\n",
    "dt.fit(X_train, y_train)\n",
    "dt_pred = dt.predict(X_test)\n",
    "print(f'Accuracy: {accuracy_score(y_test, dt_pred)}')\n",
    "print(classification_report(y_test,dt_pred, digits=6))"
   ]
  },
  {
   "cell_type": "code",
   "execution_count": 53,
   "metadata": {},
   "outputs": [
    {
     "data": {
      "image/png": "[encoded data removed]",
      "text/plain": [
       "<Figure size 600x400 with 2 Axes>"
      ]
     },
     "metadata": {},
     "output_type": "display_data"
    }
   ],
   "source": [
    "import numpy as np\n",
    "import seaborn as sns\n",
    "import matplotlib.pyplot as plt\n",
    "import pandas as pd\n",
    "from sklearn.metrics import classification_report\n",
    "\n",
    "# Train and predict using Decision Tree\n",
    "dt = DecisionTreeClassifier(max_depth=1)\n",
    "dt.fit(X_train, y_train)\n",
    "dt_pred = dt.predict(X_test)\n",
    "\n",
    "# Generate classification report dictionary\n",
    "report_dict = classification_report(y_test, dt_pred, output_dict=True)\n",
    "\n",
    "# Convert to DataFrame and drop 'support' column\n",
    "report_df = pd.DataFrame(report_dict).T.iloc[:-1, :-1]  # Remove 'accuracy' row and 'support' column\n",
    "\n",
    "# Plot heatmap\n",
    "plt.figure(figsize=(6, 4))\n",
    "sns.heatmap(report_df, annot=True, cmap=\"coolwarm\", fmt=\".2f\", linewidths=0.5)\n",
    "\n",
    "plt.title(\"Classification Report - Decision Tree Model\")\n",
    "plt.xlabel(\"Metrics\")\n",
    "plt.ylabel(\"Classes\")\n",
    "plt.show()\n"
   ]
  },
  {
   "cell_type": "code",
   "execution_count": 36,
   "metadata": {},
   "outputs": [
    {
     "data": {
      "text/plain": [
       "array([[32500,     0],\n",
       "       [ 2803, 21306]])"
      ]
     },
     "execution_count": 36,
     "metadata": {},
     "output_type": "execute_result"
    }
   ],
   "source": [
    "confusion_matrix(y_test, dt_pred)"
   ]
  },
  {
   "cell_type": "code",
   "execution_count": 50,
   "metadata": {},
   "outputs": [
    {
     "data": {
      "image/png": "[encoded data removed]",
      "text/plain": [
       "<Figure size 600x500 with 1 Axes>"
      ]
     },
     "metadata": {},
     "output_type": "display_data"
    }
   ],
   "source": [
    "import seaborn as sns\n",
    "import numpy as np\n",
    "import matplotlib.pyplot as plt\n",
    "\n",
    "# Define confusion matrix values\n",
    "cm = np.array([[32500, 0],\n",
    "               [2803, 21306]])\n",
    "\n",
    "# Plot confusion matrix as a heatmap\n",
    "plt.figure(figsize=(6, 5))\n",
    "sns.heatmap(cm, annot=True, fmt=\"d\", cmap=\"Blues\", xticklabels=[\"Predicted 0\", \"Predicted 1\"], \n",
    "            yticklabels=[\"Actual 0\", \"Actual 1\"], linewidths=0.5, cbar=False)\n",
    "\n",
    "plt.xlabel(\"Predicted Label\")\n",
    "plt.ylabel(\"Actual Label\")\n",
    "plt.title(\"Confusion Matrix - Decision Tree\")\n",
    "plt.show()\n"
   ]
  },
  {
   "cell_type": "code",
   "execution_count": 37,
   "metadata": {},
   "outputs": [
    {
     "name": "stdout",
     "output_type": "stream",
     "text": [
      "Accuracy: 1.0\n",
      "              precision    recall  f1-score   support\n",
      "\n",
      "           0   1.000000  1.000000  1.000000     32500\n",
      "           1   1.000000  1.000000  1.000000     24109\n",
      "\n",
      "    accuracy                       1.000000     56609\n",
      "   macro avg   1.000000  1.000000  1.000000     56609\n",
      "weighted avg   1.000000  1.000000  1.000000     56609\n",
      "\n"
     ]
    }
   ],
   "source": [
    "xgb = XGBClassifier()\n",
    "xgb.fit(X_train, y_train)\n",
    "xgb_pred = xgb.predict(X_test)\n",
    "print(f'Accuracy: {accuracy_score(y_test, xgb_pred)}')\n",
    "print(classification_report(y_test,xgb_pred, digits=6))"
   ]
  },
  {
   "cell_type": "code",
   "execution_count": 51,
   "metadata": {},
   "outputs": [
    {
     "name": "stdout",
     "output_type": "stream",
     "text": [
      "\u001b[1m1770/1770\u001b[0m \u001b[32m━━━━━━━━━━━━━━━━━━━━\u001b[0m\u001b[37m\u001b[0m \u001b[1m0s\u001b[0m 251us/step\n"
     ]
    },
    {
     "data": {
      "image/png": "[encoded data removed]",
      "text/plain": [
       "<Figure size 600x400 with 2 Axes>"
      ]
     },
     "metadata": {},
     "output_type": "display_data"
    }
   ],
   "source": [
    "import numpy as np\n",
    "import seaborn as sns\n",
    "import matplotlib.pyplot as plt\n",
    "import pandas as pd\n",
    "from sklearn.metrics import classification_report\n",
    "\n",
    "# Generate classification report dictionary\n",
    "cnn_pred = (model.predict(X_test) > 0.5).astype(int)  # Ensure binary predictions\n",
    "report_dict = classification_report(y_test, cnn_pred, output_dict=True)\n",
    "\n",
    "# Convert to DataFrame and drop 'support' column\n",
    "report_df = pd.DataFrame(report_dict).T.iloc[:-1, :-1]  # Remove 'accuracy' row and support column\n",
    "\n",
    "# Plot heatmap\n",
    "plt.figure(figsize=(6, 4))\n",
    "sns.heatmap(report_df, annot=True, cmap=\"coolwarm\", fmt=\".2f\", linewidths=0.5)\n",
    "\n",
    "plt.title(\"Classification Report - CNN Model\")\n",
    "plt.xlabel(\"Metrics\")\n",
    "plt.ylabel(\"Classes\")\n",
    "plt.show()\n"
   ]
  },
  {
   "cell_type": "code",
   "execution_count": 38,
   "metadata": {},
   "outputs": [
    {
     "data": {
      "text/plain": [
       "array([[32500,     0],\n",
       "       [    0, 24109]])"
      ]
     },
     "execution_count": 38,
     "metadata": {},
     "output_type": "execute_result"
    }
   ],
   "source": [
    "confusion_matrix(y_test, xgb_pred)"
   ]
  },
  {
   "cell_type": "code",
   "execution_count": 52,
   "metadata": {},
   "outputs": [
    {
     "data": {
      "image/png": "[encoded data removed]",
      "text/plain": [
       "<Figure size 600x500 with 1 Axes>"
      ]
     },
     "metadata": {},
     "output_type": "display_data"
    }
   ],
   "source": [
    "import seaborn as sns\n",
    "import numpy as np\n",
    "import matplotlib.pyplot as plt\n",
    "\n",
    "# Define confusion matrix values\n",
    "cm = np.array([[32500, 0],\n",
    "               [0, 24109]])\n",
    "\n",
    "# Plot confusion matrix as a heatmap\n",
    "plt.figure(figsize=(6, 5))\n",
    "sns.heatmap(cm, annot=True, fmt=\"d\", cmap=\"Blues\", xticklabels=[\"Predicted 0\", \"Predicted 1\"], \n",
    "            yticklabels=[\"Actual 0\", \"Actual 1\"], linewidths=0.5, cbar=False)\n",
    "\n",
    "plt.xlabel(\"Predicted Label\")\n",
    "plt.ylabel(\"Actual Label\")\n",
    "plt.title(\"Confusion Matrix - Decision Tree\")\n",
    "plt.show()\n"
   ]
  },
  {
   "cell_type": "code",
   "execution_count": 39,
   "metadata": {},
   "outputs": [],
   "source": [
    "from sklearn.model_selection import train_test_split\n",
    "from tensorflow.keras.models import Sequential\n",
    "from tensorflow.keras.layers import Conv1D, MaxPooling1D, Flatten, Dense"
   ]
  },
  {
   "cell_type": "code",
   "execution_count": 40,
   "metadata": {},
   "outputs": [],
   "source": [
    "X_train_cnn, X_test_cnn, y_train, y_test = train_test_split(X_reshaped, y, test_size=0.3, random_state=33)"
   ]
  },
  {
   "cell_type": "code",
   "execution_count": 41,
   "metadata": {},
   "outputs": [
    {
     "name": "stderr",
     "output_type": "stream",
     "text": [
      "/Users/laureltheodore/Desktop/drive-download-20250221T140014Z-001/env/lib/python3.10/site-packages/keras/src/layers/convolutional/base_conv.py:107: UserWarning: Do not pass an `input_shape`/`input_dim` argument to a layer. When using Sequential models, prefer using an `Input(shape)` object as the first layer in the model instead.\n",
      "  super().__init__(activity_regularizer=activity_regularizer, **kwargs)\n"
     ]
    }
   ],
   "source": [
    "model = Sequential()\n",
    "model.add(Conv1D(32, 3, activation='relu', input_shape=(X_train.shape[1], 1)))\n",
    "model.add(MaxPooling1D(2))\n",
    "model.add(Flatten())\n",
    "model.add(Dense(32, activation='relu'))\n",
    "model.add(Dense(1, activation='sigmoid'))"
   ]
  },
  {
   "cell_type": "code",
   "execution_count": 42,
   "metadata": {},
   "outputs": [],
   "source": [
    "model.compile(optimizer='adam', loss='binary_crossentropy', metrics=['accuracy'])"
   ]
  },
  {
   "cell_type": "code",
   "execution_count": 43,
   "metadata": {},
   "outputs": [
    {
     "name": "stdout",
     "output_type": "stream",
     "text": [
      "Epoch 1/5\n",
      "\u001b[1m4128/4128\u001b[0m \u001b[32m━━━━━━━━━━━━━━━━━━━━\u001b[0m\u001b[37m\u001b[0m \u001b[1m3s\u001b[0m 693us/step - accuracy: 0.9831 - loss: 7.2312 - val_accuracy: 0.9983 - val_loss: 0.1758\n",
      "Epoch 2/5\n",
      "\u001b[1m4128/4128\u001b[0m \u001b[32m━━━━━━━━━━━━━━━━━━━━\u001b[0m\u001b[37m\u001b[0m \u001b[1m3s\u001b[0m 685us/step - accuracy: 0.9950 - loss: 0.7885 - val_accuracy: 0.9775 - val_loss: 1.5693\n",
      "Epoch 3/5\n",
      "\u001b[1m4128/4128\u001b[0m \u001b[32m━━━━━━━━━━━━━━━━━━━━\u001b[0m\u001b[37m\u001b[0m \u001b[1m3s\u001b[0m 658us/step - accuracy: 0.9963 - loss: 0.4158 - val_accuracy: 0.9982 - val_loss: 0.1018\n",
      "Epoch 4/5\n",
      "\u001b[1m4128/4128\u001b[0m \u001b[32m━━━━━━━━━━━━━━━━━━━━\u001b[0m\u001b[37m\u001b[0m \u001b[1m3s\u001b[0m 643us/step - accuracy: 0.9938 - loss: 0.1253 - val_accuracy: 0.9979 - val_loss: 0.0305\n",
      "Epoch 5/5\n",
      "\u001b[1m4128/4128\u001b[0m \u001b[32m━━━━━━━━━━━━━━━━━━━━\u001b[0m\u001b[37m\u001b[0m \u001b[1m3s\u001b[0m 649us/step - accuracy: 0.9920 - loss: 0.0370 - val_accuracy: 0.9975 - val_loss: 0.0120\n"
     ]
    },
    {
     "data": {
      "text/plain": [
       "<keras.src.callbacks.history.History at 0x2a46a7f10>"
      ]
     },
     "execution_count": 43,
     "metadata": {},
     "output_type": "execute_result"
    }
   ],
   "source": [
    "model.fit(X_train, y_train, epochs=5, batch_size=32, validation_data=(X_test, y_test))"
   ]
  },
  {
   "cell_type": "code",
   "execution_count": 44,
   "metadata": {},
   "outputs": [
    {
     "name": "stdout",
     "output_type": "stream",
     "text": [
      "\u001b[1m1770/1770\u001b[0m \u001b[32m━━━━━━━━━━━━━━━━━━━━\u001b[0m\u001b[37m\u001b[0m \u001b[1m0s\u001b[0m 252us/step\n",
      "Accuracy: 0.9974915649455034\n",
      "              precision    recall  f1-score   support\n",
      "\n",
      "           0   0.999969  0.995662  0.997811     32500\n",
      "           1   0.994185  0.999959  0.997064     24109\n",
      "\n",
      "    accuracy                       0.997492     56609\n",
      "   macro avg   0.997077  0.997810  0.997437     56609\n",
      "weighted avg   0.997506  0.997492  0.997492     56609\n",
      "\n"
     ]
    }
   ],
   "source": [
    "cnn_pred = model.predict(X_test)>0.5\n",
    "print(f'Accuracy: {accuracy_score(y_test, cnn_pred)}')\n",
    "print(classification_report(y_test,cnn_pred, digits=6))"
   ]
  },
  {
   "cell_type": "code",
   "execution_count": 45,
   "metadata": {},
   "outputs": [
    {
     "data": {
      "text/plain": [
       "array([[32359,   141],\n",
       "       [    1, 24108]])"
      ]
     },
     "execution_count": 45,
     "metadata": {},
     "output_type": "execute_result"
    }
   ],
   "source": [
    "confusion_matrix(y_test, cnn_pred)"
   ]
  },
  {
   "cell_type": "code",
   "execution_count": 46,
   "metadata": {},
   "outputs": [
    {
     "name": "stdout",
     "output_type": "stream",
     "text": [
      "Accuracy: 100.00%\n",
      "              precision    recall  f1-score   support\n",
      "\n",
      "           0   1.000000  1.000000  1.000000     32500\n",
      "           1   1.000000  1.000000  1.000000     24109\n",
      "\n",
      "    accuracy                       1.000000     56609\n",
      "   macro avg   1.000000  1.000000  1.000000     56609\n",
      "weighted avg   1.000000  1.000000  1.000000     56609\n",
      "\n"
     ]
    }
   ],
   "source": [
    "combined_preds = np.array([xgb_pred.astype(int), np.squeeze(cnn_pred).astype(int), dt_pred.astype(int)])\n",
    "final_preds = np.apply_along_axis(lambda x: np.bincount(x).argmax(), axis=0, arr=combined_preds)\n",
    "\n",
    "# Step 4: Evaluate the model\n",
    "accuracy = accuracy_score(y_test, final_preds)\n",
    "print(f'Accuracy: {accuracy * 100:.2f}%')\n",
    "print(classification_report(y_test, final_preds, digits=6))"
   ]
  },
  {
   "cell_type": "code",
   "execution_count": 47,
   "metadata": {},
   "outputs": [
    {
     "data": {
      "text/plain": [
       "array([[32500,     0],\n",
       "       [    0, 24109]])"
      ]
     },
     "execution_count": 47,
     "metadata": {},
     "output_type": "execute_result"
    }
   ],
   "source": [
    "confusion_matrix(y_test, final_preds)"
   ]
  },
  {
   "cell_type": "code",
   "execution_count": 48,
   "metadata": {},
   "outputs": [
    {
     "name": "stderr",
     "output_type": "stream",
     "text": [
      "WARNING:absl:You are saving your model as an HDF5 file via `model.save()` or `keras.saving.save_model(model)`. This file format is considered legacy. We recommend using instead the native Keras format, e.g. `model.save('my_model.keras')` or `keras.saving.save_model(model, 'my_model.keras')`. \n"
     ]
    }
   ],
   "source": [
    "import pickle\n",
    "\n",
    "with open('models/xgb.pkl','wb') as f:\n",
    "    pickle.dump(xgb, f)\n",
    "\n",
    "with open('models/dt.pkl','wb') as f:\n",
    "    pickle.dump(dt, f)\n",
    "\n",
    "with open('models/encoder.pkl','wb') as f:\n",
    "    pickle.dump(encoder, f)\n",
    "\n",
    "model.save('models/cnn.h5')"
   ]
  },
  {
   "cell_type": "code",
   "execution_count": 49,
   "metadata": {},
   "outputs": [
    {
     "name": "stdout",
     "output_type": "stream",
     "text": [
      "\u001b[1m1770/1770\u001b[0m \u001b[32m━━━━━━━━━━━━━━━━━━━━\u001b[0m\u001b[37m\u001b[0m \u001b[1m0s\u001b[0m 244us/step\n"
     ]
    },
    {
     "data": {
      "image/png": "[encoded data removed]",
      "text/plain": [
       "<Figure size 1000x600 with 1 Axes>"
      ]
     },
     "metadata": {},
     "output_type": "display_data"
    }
   ],
   "source": [
    "import numpy as np\n",
    "import matplotlib.pyplot as plt\n",
    "from sklearn.metrics import accuracy_score, precision_score, recall_score, f1_score\n",
    "\n",
    "# Get model predictions\n",
    "y_pred_dt = dt.predict(X_test)  # Decision Tree Predictions\n",
    "y_pred_xgb = xgb.predict(X_test)  # XGBoost Predictions\n",
    "y_pred_cnn = (model.predict(X_test) > 0.5).astype(int).flatten()  # CNN Predictions\n",
    "\n",
    "# Ensemble Model - Majority Voting\n",
    "combined_preds = np.array([y_pred_xgb, y_pred_cnn, y_pred_dt])\n",
    "final_preds = np.apply_along_axis(lambda x: np.bincount(x).argmax(), axis=0, arr=combined_preds)\n",
    "\n",
    "# Define Model Names\n",
    "models = [\"CNN Only\", \"Decision Tree Only\", \"Ensemble (CNN + XGBoost + DT)\"]\n",
    "\n",
    "# Compute Performance Metrics\n",
    "accuracy = [\n",
    "    accuracy_score(y_test, y_pred_cnn) * 100,\n",
    "    accuracy_score(y_test, y_pred_dt) * 100,\n",
    "    accuracy_score(y_test, final_preds) * 100\n",
    "]\n",
    "\n",
    "precision = [\n",
    "    precision_score(y_test, y_pred_cnn, average='weighted') * 100,\n",
    "    precision_score(y_test, y_pred_dt, average='weighted') * 100,\n",
    "    precision_score(y_test, final_preds, average='weighted') * 100\n",
    "]\n",
    "\n",
    "recall = [\n",
    "    recall_score(y_test, y_pred_cnn, average='weighted') * 100,\n",
    "    recall_score(y_test, y_pred_dt, average='weighted') * 100,\n",
    "    recall_score(y_test, final_preds, average='weighted') * 100\n",
    "]\n",
    "\n",
    "f1_score_vals = [\n",
    "    f1_score(y_test, y_pred_cnn, average='weighted') * 100,\n",
    "    f1_score(y_test, y_pred_dt, average='weighted') * 100,\n",
    "    f1_score(y_test, final_preds, average='weighted') * 100\n",
    "]\n",
    "\n",
    "# Convert to NumPy arrays\n",
    "x = np.arange(len(models))  # Label locations\n",
    "width = 0.2  # Bar width\n",
    "\n",
    "# Create figure and axes\n",
    "fig, ax = plt.subplots(figsize=(10, 6))\n",
    "\n",
    "# Create bars\n",
    "bars1 = ax.bar(x - width*1.5, accuracy, width, label=\"Accuracy\", color='skyblue')\n",
    "bars2 = ax.bar(x - width/2, precision, width, label=\"Precision\", color='salmon')\n",
    "bars3 = ax.bar(x + width/2, recall, width, label=\"Recall\", color='mediumseagreen')\n",
    "bars4 = ax.bar(x + width*1.5, f1_score_vals, width, label=\"F1-Score\", color='purple')\n",
    "\n",
    "# Function to add percentage labels\n",
    "def add_labels(bars):\n",
    "    for bar in bars:\n",
    "        height = bar.get_height()\n",
    "        ax.text(bar.get_x() + bar.get_width()/2, height + 0.5, f'{height:.1f}%', \n",
    "                ha='center', va='bottom', fontsize=10, fontweight='bold')\n",
    "\n",
    "# Add labels to bars\n",
    "add_labels(bars1)\n",
    "add_labels(bars2)\n",
    "add_labels(bars3)\n",
    "add_labels(bars4)\n",
    "\n",
    "# Formatting the graph\n",
    "ax.set_xlabel(\"Performance Metrics\", fontsize=12)\n",
    "ax.set_ylabel(\"Percentage (%)\", fontsize=12)\n",
    "ax.set_title(\"Performance Metrics Comparison of Different Models\", fontsize=14, fontweight='bold')\n",
    "ax.set_xticks(x)\n",
    "ax.set_xticklabels(models, fontsize=11)\n",
    "ax.legend(title=\"Performance Metrics\")\n",
    "ax.set_ylim(80, 100)  # Y-axis limit\n",
    "plt.grid(axis='y', linestyle='--', alpha=0.7)\n",
    "\n",
    "# Show the plot\n",
    "plt.show()\n"
   ]
  },
  {
   "cell_type": "code",
   "execution_count": null,
   "metadata": {},
   "outputs": [],
   "source": []
  }
 ],
 "metadata": {
  "kernelspec": {
   "display_name": "env",
   "language": "python",
   "name": "python3"
  },
  "language_info": {
   "codemirror_mode": {
    "name": "ipython",
    "version": 3
   },
   "file_extension": ".py",
   "mimetype": "text/x-python",
   "name": "python",
   "nbconvert_exporter": "python",
   "pygments_lexer": "ipython3",
   "version": "3.10.0"
  }
 },
 "nbformat": 4,
 "nbformat_minor": 4
}
